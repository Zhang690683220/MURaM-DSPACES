{
 "cells": [
  {
   "cell_type": "code",
   "execution_count": 4,
   "metadata": {},
   "outputs": [],
   "source": [
    "import read_muram as rmu\n",
    "import dp_plot_tools as dplt\n",
    "import muram_eos as eos\n",
    "import numpy as np"
   ]
  },
  {
   "cell_type": "code",
   "execution_count": 5,
   "metadata": {},
   "outputs": [],
   "source": [
    "## Load the EOS file\n",
    "eos_file = \"../RUNDIR/Uppsala_mergedeos_PI_A.dat\"\n",
    "mu_eos=eos.mu_eos(eos_file)"
   ]
  },
  {
   "cell_type": "code",
   "execution_count": 7,
   "metadata": {},
   "outputs": [],
   "source": [
    "## Set the simulation size and range\n",
    "## Nz = vertical direction (dimension 0 in MURaM)\n",
    "## Nx = first horizontal direction (set = 1 for 1D)\n",
    "## Ny = second horizontal direection (set = 1 for 2D or 1D)\n",
    "\n",
    "Nz = 840\n",
    "\n",
    "Nx = 1024\n",
    "Ny = 1024\n",
    "\n",
    "## Output Directory\n",
    "\n",
    "out_dir = \"/ptmp/damp/large_SSD_50Mm_cubed/3D/\"\n",
    "\n",
    "## Iteration Number to be output \n",
    "\n",
    "iter_num = \"252000\""
   ]
  },
  {
   "cell_type": "code",
   "execution_count": 4,
   "metadata": {},
   "outputs": [],
   "source": [
    "## Constant vertical field in gauss (Bz)\n",
    "\n",
    "field_strength = 50\n",
    "\n",
    "(np.tile(Field_strength/(4.0*np.pi),(Ny,Nx,1)).ravel().astype(np.single)).tofile(out_dir+'result_prim_5.' + iter_num)"
   ]
  },
  {
   "cell_type": "code",
   "execution_count": null,
   "metadata": {},
   "outputs": [],
   "source": [
    "## Constant horizontal (Bx) field in gauss\n",
    "\n",
    "field_strength = 50\n",
    "\n",
    "(np.tile(Field_strength/(4.0*np.pi),(Ny,Nx,1)).ravel().astype(np.single)).tofile(out_dir+'result_prim_6.' + iter_num)"
   ]
  },
  {
   "cell_type": "code",
   "execution_count": null,
   "metadata": {},
   "outputs": [],
   "source": [
    "## Constant horizontal (By) field in gauss\n",
    "\n",
    "field_strength = 50\n",
    "\n",
    "(np.tile(Field_strength/(4.0*np.pi),(Ny,Nx,1)).ravel().astype(np.single)).tofile(out_dir+'result_prim_7.' + iter_num)"
   ]
  },
  {
   "cell_type": "code",
   "execution_count": 8,
   "metadata": {},
   "outputs": [],
   "source": [
    "## Random Field for SSD\n",
    "\n",
    "## Will give a field with RMS ~1.0e-3 G, constant in vertical direction, random in horizontal direction\n",
    "a=(np.random.rand(Nx,Ny)-0.5)*3.5e-3\n",
    "np.sqrt((a*a).mean())\n",
    "(np.tile(a,(880,1,1)).ravel().astype(np.single)).tofile(out_dir+'result_prim_5.' + iter_num)"
   ]
  }
 ],
 "metadata": {
  "kernelspec": {
   "display_name": "Python 3",
   "language": "python",
   "name": "python3"
  },
  "language_info": {
   "codemirror_mode": {
    "name": "ipython",
    "version": 3
   },
   "file_extension": ".py",
   "mimetype": "text/x-python",
   "name": "python",
   "nbconvert_exporter": "python",
   "pygments_lexer": "ipython3",
   "version": "3.6.4"
  }
 },
 "nbformat": 4,
 "nbformat_minor": 2
}
