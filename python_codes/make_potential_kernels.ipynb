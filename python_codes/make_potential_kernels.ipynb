{
 "cells": [
  {
   "cell_type": "code",
   "execution_count": 1,
   "metadata": {},
   "outputs": [
    {
     "name": "stdout",
     "output_type": "stream",
     "text": [
      "Importing read_muram.py\n",
      "Importing dp_plot_tools.py\n",
      "Importing muram_eos.py\n"
     ]
    }
   ],
   "source": [
    "## Calculate the potential field kernals for use with the MURaM code. Based on the idl routines of M.C. 2009\n",
    "import read_muram as rmu\n",
    "import dp_plot_tools as dplt\n",
    "import muram_eos as eos\n",
    "import numpy as np"
   ]
  },
  {
   "cell_type": "code",
   "execution_count": 2,
   "metadata": {},
   "outputs": [],
   "source": [
    "## Vertical is z.\n",
    "\n",
    "## Simulation Setup\n",
    "\n",
    "out_dir = '/scratch/przybylski/2D_SCATTER_TESTS/checkerboard/'\n",
    "\n",
    "## Set Ny = 1 for 2D\n",
    "## NB dx must = dy for this to work\n",
    "\n",
    "Nx = 1600\n",
    "Ny = 1\n",
    "Nz = 3\n",
    "\n",
    "dx = 16.0e8/1600\n",
    "dy = dx\n",
    "dz = 4.0e8/400\n",
    "\n",
    "res = 16\n",
    "\n",
    "heightscale = dz/dx\n",
    "\n",
    "Nxs = Nx*res\n",
    "Nys = Ny*res"
   ]
  },
  {
   "cell_type": "code",
   "execution_count": 3,
   "metadata": {},
   "outputs": [],
   "source": [
    "## Define Fourier grid\n",
    "\n",
    "kx = np.zeros([Nxs])\n",
    "ky = np.zeros([Nys])\n",
    "\n",
    "kx[0:Nxs//2] = np.arange(Nxs//2)/Nxs\n",
    "kx[Nxs//2:Nxs] = np.arange(Nxs//2)/Nxs-0.5\n",
    "\n",
    "kx=np.array([kx[:],]*Nys).transpose()  \n",
    "kx *= 2*np.pi\n",
    "\n",
    "if Ny > 1:\n",
    "    ky[0:Nys//2] = np.arange(Nys//2)/Nys\n",
    "    ky[Nys//2:] = np.arange(Nys//2)/Nys-0.5\n",
    "\n",
    "ky = np.array([ky[:],]*Nxs)\n",
    "ky *= 2*np.pi\n",
    "\n",
    "k2 = kx*kx + ky*ky\n",
    "kabs = np.sqrt(k2)"
   ]
  },
  {
   "cell_type": "code",
   "execution_count": 4,
   "metadata": {},
   "outputs": [],
   "source": [
    "## Complex Arrays\n",
    "HxB = np.zeros([Nxs,Nys],dtype=np.complex)\n",
    "HyB = np.zeros([Nxs,Nys],dtype=np.complex)\n",
    "HzB = np.ones([Nxs,Nys],dtype=np.complex)\n",
    "\n",
    "HxB[np.where(k2 != 0)] = -1j*kx[np.where(k2 != 0)]/kabs[np.where(k2 != 0)]\n",
    "HxB[0,0] = -1j\n",
    "\n",
    "if Ny == 1:\n",
    "    HxB[0,:] = -1j\n",
    "\n",
    "HyB[np.where(k2 != 0)] = -1j*ky[np.where(k2 != 0)]/kabs[np.where(k2 != 0)]\n",
    "HyB[0,0] = -1j\n",
    "\n",
    "if Ny == 1:\n",
    "    HyB[0,:] = -1j\n",
    " "
   ]
  },
  {
   "cell_type": "code",
   "execution_count": 5,
   "metadata": {},
   "outputs": [],
   "source": [
    "## Delta Function\n",
    "\n",
    "delta = np.zeros([Nxs,Nys])\n",
    "\n",
    "for i in range(-4*res,4*res+1):\n",
    "    i0 = i\n",
    "    while i0 < 0:\n",
    "        i0 = i0+Nxs\n",
    "    for j in range(-4*res,4*res+1):\n",
    "        j0=j\n",
    "        while j0 < 0:\n",
    "            j0 = j0+Nys\n",
    "        if Ny == 1:\n",
    "            delta[i0,:] = np.exp(-np.double(np.fmod(i,Nxs))**2/res**2)\n",
    "        else:\n",
    "            delta[i0,j0] = np.exp(-(np.double(np.fmod(i,Nxs))**2+np.double(np.fmod(j,Nys))**2)/res**2)\n",
    "\n",
    "delta/=delta.sum()"
   ]
  },
  {
   "cell_type": "code",
   "execution_count": 6,
   "metadata": {},
   "outputs": [],
   "source": [
    "## FFT delta function\n",
    "\n",
    "FFTdelta = np.fft.fft2(delta)"
   ]
  },
  {
   "cell_type": "code",
   "execution_count": 7,
   "metadata": {},
   "outputs": [],
   "source": [
    "## define function symmetric rebin\n",
    "\n",
    "def symmetric_rebin(a, oNx, oNy):\n",
    "    Nx = a.shape[0]\n",
    "    Ny = a.shape[1]\n",
    "    dx = Nx/oNx\n",
    "    dy = Ny/oNy\n",
    "    \n",
    "    dxi = np.int(dx)\n",
    "    dyi = np.int(dy)\n",
    "    \n",
    "    out= np.zeros([oNx,oNy])\n",
    "    b = np.zeros([Nx+2*dxi,Ny+2*dyi])\n",
    "    \n",
    "    b[dxi:dxi+Nx,dyi:dyi+Ny] = a\n",
    "    \n",
    "    ## Fill y ghost cells\n",
    "    b[0:dxi,dyi:Ny+dyi] = a[Nx-dxi:Nx,0:Ny]\n",
    "    b[Nx+dxi:Nx+2*dxi,dyi:Ny+dyi] = a[0:dxi,0:Ny]\n",
    "    \n",
    "    ## Fill x ghost cells\n",
    "    b[:,0:dyi] = b[:,Ny:Ny+dyi]\n",
    "    b[:,Ny+dyi:Ny+2*dyi] = b[:,dyi:2*dyi]\n",
    "\n",
    "    cx = np.int(dx/2)\n",
    "    cy = np.int(dy/2)\n",
    "    \n",
    "    for i in range(dxi,Nx+dxi,dxi):\n",
    "        for j in range(dyi,Ny+dyi,dyi):\n",
    "            out[i//dxi-1,j//dyi-1] = b[i-cx:i+cx+1,j-cy:j+cy+1].sum()\n",
    "            \n",
    "    return out"
   ]
  },
  {
   "cell_type": "code",
   "execution_count": 10,
   "metadata": {},
   "outputs": [
    {
     "name": "stdout",
     "output_type": "stream",
     "text": [
      "0 1.1288993811761299 0.0027765557354221173 0.0 0.000625000000000005\n",
      "1 1.1289062371731826 0.002390139795771683 0.0 0.000625\n",
      "2 1.1289062499760465 0.0021732082846600345 0.0 0.0006250000000000001\n"
     ]
    }
   ],
   "source": [
    "## Make and Save Kernels:\n",
    "xbkernel = np.zeros([Nx,Ny])\n",
    "ybkernel = np.zeros([Nx,Ny])\n",
    "zbkernel = np.zeros([Nx,Ny])\n",
    "\n",
    "a = np.zeros(Nx*Ny+3,dtype=np.single)\n",
    "a[0:3] = [Nx,Ny,heightscale]\n",
    "\n",
    "for k in range(Nz):\n",
    "    z = k*heightscale*res\n",
    "    \n",
    "    xbkernel[:,:] = symmetric_rebin(np.fft.ifft2(FFTdelta*HxB*np.exp(-kabs*z)).real,Nx,Ny)\n",
    "    ybkernel[:,:] = symmetric_rebin(np.fft.ifft2(FFTdelta*HyB*np.exp(-kabs*z)).real,Nx,Ny)\n",
    "    zbkernel[:,:] = symmetric_rebin(np.fft.ifft2(FFTdelta*HzB*np.exp(-kabs*z)).real,Nx,Ny)\n",
    "    \n",
    "    flux = zbkernel[:,:].sum()\n",
    "    \n",
    "    xbkernel/=flux\n",
    "    ybkernel/=flux\n",
    "    zbkernel/=flux\n",
    "    \n",
    "    print(k, flux, np.abs(xbkernel[:,:]).sum()/Nx/Ny,np.abs(ybkernel[:,:]).sum()/Nx/Ny,np.abs(zbkernel[:,:]).sum()/Nx/Ny)\n",
    "\n",
    "    a[3:] = xbkernel[:,:].transpose().ravel() \n",
    "    a.tofile(out_dir+'PSF-kernel-x-'+str(k)+'.dat')\n",
    "    \n",
    "    a[3:] = xbkernel[:,:].transpose().ravel()\n",
    "    a.tofile(out_dir+'PSF-kernel-y-'+str(k)+'.dat')\n",
    "    \n",
    "    a[3:] = xbkernel[:,:].transpose().ravel() \n",
    "    a.tofile(out_dir+'PSF-kernel-z-'+str(k)+'.dat')"
   ]
  },
  {
   "cell_type": "code",
   "execution_count": null,
   "metadata": {},
   "outputs": [],
   "source": []
  }
 ],
 "metadata": {
  "kernelspec": {
   "display_name": "Python 3",
   "language": "python",
   "name": "python3"
  },
  "language_info": {
   "codemirror_mode": {
    "name": "ipython",
    "version": 3
   },
   "file_extension": ".py",
   "mimetype": "text/x-python",
   "name": "python",
   "nbconvert_exporter": "python",
   "pygments_lexer": "ipython3",
   "version": "3.6.4"
  }
 },
 "nbformat": 4,
 "nbformat_minor": 2
}
